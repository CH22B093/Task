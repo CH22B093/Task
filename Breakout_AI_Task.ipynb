{
  "nbformat": 4,
  "nbformat_minor": 0,
  "metadata": {
    "colab": {
      "provenance": [],
      "authorship_tag": "ABX9TyPiZd+g+ZQGY9r6ayoa50Uo",
      "include_colab_link": true
    },
    "kernelspec": {
      "name": "python3",
      "display_name": "Python 3"
    },
    "language_info": {
      "name": "python"
    }
  },
  "cells": [
    {
      "cell_type": "markdown",
      "metadata": {
        "id": "view-in-github",
        "colab_type": "text"
      },
      "source": [
        "<a href=\"https://colab.research.google.com/github/CH22B093/Task/blob/main/Breakout_AI_Task.ipynb\" target=\"_parent\"><img src=\"https://colab.research.google.com/assets/colab-badge.svg\" alt=\"Open In Colab\"/></a>"
      ]
    },
    {
      "cell_type": "markdown",
      "source": [
        "#Importing Libraries\n"
      ],
      "metadata": {
        "id": "ybewe7eCiP4k"
      }
    },
    {
      "cell_type": "code",
      "source": [
        "import yfinance as yf\n",
        "import pandas as pd"
      ],
      "metadata": {
        "id": "YXVN0RE8iPFk"
      },
      "execution_count": 2,
      "outputs": []
    },
    {
      "cell_type": "markdown",
      "source": [
        "# Function to get Option chain data"
      ],
      "metadata": {
        "id": "j2zBcoDRiWrT"
      }
    },
    {
      "cell_type": "code",
      "source": [
        "def get_option_chain_data(instrument, expiry_date):\n",
        "  ticker = instrument + \".NS\"\n",
        "  yf_ticker = yf.Ticker(ticker)\n",
        "  option_chain = yf_ticker.option_chain(expiry_date)\n",
        "\n",
        "  options_data = {}\n",
        "  for call in option_chain.calls.itertuples():\n",
        "    strike = call.strike\n",
        "    if strike not in options_data:\n",
        "      options_data[strike] = {'instrument': instrument, 'strike': strike, 'expiryDate': expiry_date, 'side': 'call', 'bid/ask': 0}\n",
        "    options_data[strike]['bid/ask'] = max(options_data[strike]['bid/ask'], call.ask)\n",
        "\n",
        "  for put in option_chain.puts.itertuples():\n",
        "    strike = put.strike\n",
        "    if strike not in options_data:\n",
        "      options_data[strike] = {'instrument': instrument, 'strike': strike, 'expiryDate': expiry_date, 'side': 'put', 'bid/ask': 0}\n",
        "    options_data[strike]['bid/ask'] = max(options_data[strike]['bid/ask'], put.bid)\n",
        "\n",
        "  df = pd.DataFrame(options_data.values())\n",
        "  return df"
      ],
      "metadata": {
        "id": "xwttJPdmicJo"
      },
      "execution_count": null,
      "outputs": []
    },
    {
      "cell_type": "markdown",
      "source": [
        "# Function to calculate margin and premium"
      ],
      "metadata": {
        "id": "AFHprfpqilsS"
      }
    },
    {
      "cell_type": "code",
      "source": [
        "def calculate_margin_and_premium(option_data):\n",
        "  lot_size = 50\n",
        "  for index, row in option_data.iterrows():\n",
        "    margin = 10000\n",
        "    if row['side'] == 'call':\n",
        "      premium = row['ask'] * lot_size\n",
        "    elif row['side'] == 'put':\n",
        "      premium = row['bid'] * lot_size\n",
        "    else:\n",
        "      premium = 0\n",
        "\n",
        "    option_data.loc[index, 'margin'] = margin\n",
        "    option_data.loc[index, 'premium'] = premium\n",
        "\n",
        "  return option_data"
      ],
      "metadata": {
        "id": "v7farrJQixVI"
      },
      "execution_count": null,
      "outputs": []
    }
  ]
}